{
 "cells": [
  {
   "cell_type": "code",
   "execution_count": null,
   "id": "7bebbf60",
   "metadata": {},
   "outputs": [],
   "source": [
    "import numpy as np\n",
    "from PybulletCore import pybullet_core\n",
    "%load_ext autoreload\n",
    "%autoreload 2"
   ]
  },
  {
   "cell_type": "markdown",
   "id": "9af6e99c",
   "metadata": {},
   "source": [
    "## 1. Open Pybullet GUI"
   ]
  },
  {
   "cell_type": "code",
   "execution_count": null,
   "id": "d610617b",
   "metadata": {},
   "outputs": [],
   "source": [
    "pb = pybullet_core()\n",
    "# pb.connect_pybullet(robot_name = \"Indy7\", joint_limit=False)\n",
    "pb.connect_pybullet(robot_name = \"IndyRP2\", joint_limit=False)"
   ]
  },
  {
   "cell_type": "markdown",
   "id": "655bd39a",
   "metadata": {},
   "source": [
    "## 2. Move robot"
   ]
  },
  {
   "cell_type": "code",
   "execution_count": null,
   "id": "1610cd80",
   "metadata": {},
   "outputs": [],
   "source": [
    "pb.MoveRobot(2*(1-2*np.random.rand(7)), verbose=True)"
   ]
  },
  {
   "cell_type": "markdown",
   "id": "270a61af",
   "metadata": {},
   "source": [
    "## 3. Close Pybullet GUI"
   ]
  },
  {
   "cell_type": "code",
   "execution_count": null,
   "id": "38465c66",
   "metadata": {},
   "outputs": [],
   "source": [
    "pb.disconnect_pybullet()"
   ]
  }
 ],
 "metadata": {
  "kernelspec": {
   "display_name": "Python 3 (ipykernel)",
   "language": "python",
   "name": "python3"
  },
  "language_info": {
   "codemirror_mode": {
    "name": "ipython",
    "version": 3
   },
   "file_extension": ".py",
   "mimetype": "text/x-python",
   "name": "python",
   "nbconvert_exporter": "python",
   "pygments_lexer": "ipython3",
   "version": "3.7.0"
  }
 },
 "nbformat": 4,
 "nbformat_minor": 5
}
